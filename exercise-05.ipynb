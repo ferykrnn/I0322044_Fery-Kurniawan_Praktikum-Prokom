{
 "cells": [
  {
   "attachments": {},
   "cell_type": "markdown",
   "metadata": {},
   "source": [
    "1. Diberikan List sebagai berikut!"
   ]
  },
  {
   "cell_type": "code",
   "execution_count": null,
   "metadata": {},
   "outputs": [],
   "source": [
    "list1 = ['a','b','c']\n",
    "list2 = ['c','d','e']"
   ]
  },
  {
   "attachments": {},
   "cell_type": "markdown",
   "metadata": {},
   "source": [
    "Buatlah program pengulangan untuk menampilkan elemen dalam kedua list tersebut yang sama! (Contoh Output \"Nilai yang sama adalah 'C'\")"
   ]
  },
  {
   "cell_type": "code",
   "execution_count": 26,
   "metadata": {},
   "outputs": [
    {
     "name": "stdout",
     "output_type": "stream",
     "text": [
      "nilai yang sama adalah c\n"
     ]
    }
   ],
   "source": [
    "# Kerjakan nomor 1 di sini\n",
    "list1 = ['a','b','c']\n",
    "list2 = ['c','d','e']\n",
    "for huruf in list1:\n",
    "    if huruf in list2:\n",
    "        print(f\"nilai yang sama adalah {huruf}\")"
   ]
  },
  {
   "attachments": {},
   "cell_type": "markdown",
   "metadata": {},
   "source": [
    "2. Buatlah sebuah list yang berisi daftar mata kuliah di Teknik Industri UNS (minimal 10 matkul). Kemudian buat program pencarian menggunakan pengulangan. Apabila nama matkul yang user inputkan sudah sesuai dengan isi list maka program akan berhenti dan menampilkan output \"Mata Kuliah (matkul yang diinput user) adalah mata kuliah di Teknik Industri UNS\"."
   ]
  },
  {
   "cell_type": "code",
   "execution_count": 1,
   "metadata": {},
   "outputs": [
    {
     "name": "stdout",
     "output_type": "stream",
     "text": [
      "mata kuliah aeb adalah mata kuliah di Teknik Industri UNS\n"
     ]
    }
   ],
   "source": [
    "# Kerjakan nomor 2 di sini\n",
    "list=['kalkulus','fisdas','biologi','mekanika','sli','prd','aeb','pie','prokom','psikologi']\n",
    "matakuliah=str(input(\"masukkan mata kuliah :\"))\n",
    "for i in list[0:len(list)]:\n",
    "    while matakuliah.lower()!=i:\n",
    "        break\n",
    "    else:\n",
    "        print(f\"mata kuliah {matakuliah} adalah mata kuliah di Teknik Industri UNS\")"
   ]
  },
  {
   "attachments": {},
   "cell_type": "markdown",
   "metadata": {},
   "source": [
    "3. Buatlah program untuk menampilkan faktorial dari suatu bilangan dimana bilangan tersebut didapat melalui input user!"
   ]
  },
  {
   "cell_type": "code",
   "execution_count": 2,
   "metadata": {},
   "outputs": [
    {
     "name": "stdout",
     "output_type": "stream",
     "text": [
      "hasil dari 5! adalah 120\n"
     ]
    }
   ],
   "source": [
    "# Kerjakan nomor 3 di sini\n",
    "angka=int(input(\"masukkan angka: \"))\n",
    "n=1\n",
    "\n",
    "for hasil in range (1, angka+1):\n",
    "    n = n*hasil\n",
    "print(f\"hasil dari {angka}! adalah {n}\")"
   ]
  }
 ],
 "metadata": {
  "kernelspec": {
   "display_name": "Python 3",
   "language": "python",
   "name": "python3"
  },
  "language_info": {
   "codemirror_mode": {
    "name": "ipython",
    "version": 3
   },
   "file_extension": ".py",
   "mimetype": "text/x-python",
   "name": "python",
   "nbconvert_exporter": "python",
   "pygments_lexer": "ipython3",
   "version": "3.10.7"
  },
  "orig_nbformat": 4
 },
 "nbformat": 4,
 "nbformat_minor": 2
}
